{
 "cells": [
  {
   "cell_type": "markdown",
   "id": "0490ee90",
   "metadata": {},
   "source": [
    "# Projet : \n",
    "Défis sécuritaire et apport de l’IA : analyse de la situation sécuritaire du\n",
    "Burkina Faso à partir de sources de données hétérogènes."
   ]
  },
  {
   "cell_type": "markdown",
   "id": "a31d26bd",
   "metadata": {},
   "source": [
    "# Introduction\n"
   ]
  },
  {
   "cell_type": "markdown",
   "id": "452186db",
   "metadata": {},
   "source": [
    "## 1) Mise en place de la pipeline "
   ]
  },
  {
   "cell_type": "markdown",
   "id": "204b5b22",
   "metadata": {},
   "source": [
    "# 2) Construction de la dataset "
   ]
  },
  {
   "cell_type": "markdown",
   "id": "4599a945",
   "metadata": {},
   "source": [
    "# Description de la base de donnée\n",
    "Cet ensemble de données recueille des informations sur les attaques menés au Burkina Faso de l'année 2015, sa date de commencement jusqu'a nos jours. au Brésil et se concentre sur la question de savoir si \n",
    "\n",
    "eventid = l'identifiant de l'evenement\n",
    "iyear = l'année de l'évènement\n",
    "imonth = le mois de l'évènement\n",
    "ijour= le jour qu'a eu l'évènement\n",
    "provstate = la province\n",
    "city = la ville qui a été attaqué\n",
    "lattitude = la lattitude\n",
    "longitude = la longitude\n",
    "attaquetype_txt1 = le type d'attaque\n",
    "targtype_txt1 = type de cible\n",
    "gname = identité des malfrats\n",
    "weaptype_txt1 = le type d'arme\n",
    "nkill = nombre total de victime\n",
    "nkillter = nombre de victime coté assaillant\n",
    "nwound = nombre total de blessé\n",
    "nwoundte = nombre de blessé coté assaillants"
   ]
  },
  {
   "cell_type": "markdown",
   "id": "a0047fcf-8870-4e4f-b7ab-c28064d8eb48",
   "metadata": {},
   "source": [
    "# IMPORTATION DES BIBLIOTEQUES ET DONNÉES"
   ]
  },
  {
   "cell_type": "code",
   "execution_count": 170,
   "id": "f1157587",
   "metadata": {},
   "outputs": [],
   "source": [
    "import pandas as pd\n",
    "import matplotlib.pyplot as plt\n",
    "import numpy as np\n",
    "import seaborn as sns\n",
    "sns.set()\n",
    "%matplotlib inline\n",
    "import os as os\n",
    "import openpyxl"
   ]
  },
  {
   "cell_type": "code",
   "execution_count": 12,
   "id": "48b80e84-eb1c-4d17-bc57-64e71d370ce4",
   "metadata": {},
   "outputs": [
    {
     "name": "stdout",
     "output_type": "stream",
     "text": [
      "Collecting openpyxl\n",
      "  Downloading openpyxl-3.0.10-py2.py3-none-any.whl (242 kB)\n",
      "     ------------------------------------ 242.1/242.1 kB 285.2 kB/s eta 0:00:00\n",
      "Collecting et-xmlfile\n",
      "  Downloading et_xmlfile-1.1.0-py3-none-any.whl (4.7 kB)\n",
      "Installing collected packages: et-xmlfile, openpyxl\n",
      "Successfully installed et-xmlfile-1.1.0 openpyxl-3.0.10\n"
     ]
    }
   ],
   "source": [
    "#!pip install seaborn\n",
    "!pip install openpyxl"
   ]
  },
  {
   "cell_type": "code",
   "execution_count": 171,
   "id": "c3f433ac-2be4-454e-997f-c77f5960d45c",
   "metadata": {},
   "outputs": [],
   "source": [
    "os.chdir=(\"C:\\ANABEBOU\\MASTER FD IA\\CITASUMS\\TRAVAUX GROUP4\\archive\")\n",
    "\n",
    "path=os.path.join(os.path.abspath(os.path.join(os.getcwd(),os.pardir,os.pardir)),\"TRAVAUX GROUP4\",\"archive\")"
   ]
  },
  {
   "cell_type": "code",
   "execution_count": 166,
   "id": "a04d6af6-d29b-4b2b-9131-652634b1a4fb",
   "metadata": {},
   "outputs": [
    {
     "data": {
      "text/plain": [
       "'C:\\\\ANABEBOU\\\\MASTER FD IA\\\\CITASUMS\\\\TRAVAUX GROUP4\\\\archive'"
      ]
     },
     "execution_count": 166,
     "metadata": {},
     "output_type": "execute_result"
    }
   ],
   "source": [
    "path\n",
    "#ISO-8859-1"
   ]
  },
  {
   "cell_type": "code",
   "execution_count": 144,
   "id": "1bc1f932-2231-4369-b714-a2f353ce2b0b",
   "metadata": {},
   "outputs": [
    {
     "data": {
      "text/plain": [
       "'C:\\\\ANABEBOU\\\\MASTER FD IA\\\\CITASUMS\\\\citadel_env\\\\Scripts'"
      ]
     },
     "execution_count": 144,
     "metadata": {},
     "output_type": "execute_result"
    }
   ],
   "source": [
    "os.getcwd()"
   ]
  },
  {
   "cell_type": "code",
   "execution_count": 172,
   "id": "69350189-1423-4ca1-bb01-679286497b13",
   "metadata": {},
   "outputs": [],
   "source": [
    "data=pd.read_csv(os.path.join(path,\"globalterrorismdb_0522dist.csv\"), sep=\";\", encoding = \"ISO-8859-1\")"
   ]
  },
  {
   "cell_type": "code",
   "execution_count": 19,
   "id": "96c9fb3b-35ce-474d-a062-e8b6bfb5fdfd",
   "metadata": {},
   "outputs": [],
   "source": [
    "#data2=pd.read_excel(os.path.join(path,\"Africa_1997-2022_Sep16.xlsx\"))\n",
    "#, encoding = \"ISO-8859-1\""
   ]
  },
  {
   "cell_type": "code",
   "execution_count": 207,
   "id": "0e2aa894-dde2-43c2-929e-9fc749731add",
   "metadata": {},
   "outputs": [],
   "source": [
    "data2=pd.read_csv(os.path.join(path,\"Africa_1997-2022_Sep16.csv\"), sep=\";\", encoding = \"ISO-8859-1\")"
   ]
  },
  {
   "cell_type": "code",
   "execution_count": 174,
   "id": "101b1cfd-66e5-463c-a634-d4e669a28ee5",
   "metadata": {},
   "outputs": [
    {
     "data": {
      "text/plain": [
       "0         1970\n",
       "1         1970\n",
       "2         1970\n",
       "3         1970\n",
       "4         1970\n",
       "          ... \n",
       "209701    2020\n",
       "209702    2020\n",
       "209703    2020\n",
       "209704    2020\n",
       "209705    2020\n",
       "Name: iyear, Length: 209706, dtype: int64"
      ]
     },
     "execution_count": 174,
     "metadata": {},
     "output_type": "execute_result"
    }
   ],
   "source": [
    "data[\"iyear\"]"
   ]
  },
  {
   "cell_type": "markdown",
   "id": "3225f7f4",
   "metadata": {},
   "source": [
    "# Preliminary Wrangling"
   ]
  },
  {
   "cell_type": "code",
   "execution_count": 208,
   "id": "1e6a28a0",
   "metadata": {},
   "outputs": [],
   "source": [
    "# Chargement de la database\n",
    "filtre2 = data2['EVENT_TYPE'] !=\"Protests\"\n",
    "data2=data2[filtre2]"
   ]
  },
  {
   "cell_type": "code",
   "execution_count": 176,
   "id": "cf792bfb-8331-41f2-b866-e3b2dfdff107",
   "metadata": {},
   "outputs": [
    {
     "data": {
      "text/plain": [
       "(223354, 29)"
      ]
     },
     "execution_count": 176,
     "metadata": {},
     "output_type": "execute_result"
    }
   ],
   "source": [
    "data2.shape"
   ]
  },
  {
   "cell_type": "code",
   "execution_count": 209,
   "id": "e9390600-6c53-4923-bc3d-65b9ad41be03",
   "metadata": {},
   "outputs": [],
   "source": [
    "# Chargement de la database\n",
    "filtre3 = data2['ACTOR2'] !=\"Civilians (Burkina Faso)\"\n",
    "data2=data2[filtre3]"
   ]
  },
  {
   "cell_type": "code",
   "execution_count": 210,
   "id": "fe436023-4021-4043-9032-e823b29816a3",
   "metadata": {},
   "outputs": [
    {
     "data": {
      "text/plain": [
       "(220170, 29)"
      ]
     },
     "execution_count": 210,
     "metadata": {},
     "output_type": "execute_result"
    }
   ],
   "source": [
    "data2.shape"
   ]
  },
  {
   "cell_type": "code",
   "execution_count": 105,
   "id": "0dc68d58",
   "metadata": {},
   "outputs": [],
   "source": [
    "#os.chdir('/home/salma/')"
   ]
  },
  {
   "cell_type": "code",
   "execution_count": 106,
   "id": "7f1ba64f",
   "metadata": {},
   "outputs": [],
   "source": [
    "#path='base_de_donnee.csv'"
   ]
  },
  {
   "cell_type": "code",
   "execution_count": 111,
   "id": "a28372ba",
   "metadata": {},
   "outputs": [
    {
     "name": "stderr",
     "output_type": "stream",
     "text": [
      "/tmp/ipykernel_7434/4060974849.py:1: DtypeWarning: Columns (4,31,33,54,61,62,63,70,76,79,90,92,94,96,107,112,114,115,117,118,119,121) have mixed types. Specify dtype option on import or set low_memory=False.\n",
      "  data = pd.read_csv('base_de_donnee.csv', sep = ';', encoding= \"ISO-8859-1\")\n"
     ]
    }
   ],
   "source": [
    "#data = pd.read_csv('base_de_donnee.csv', sep = ';', encoding= \"ISO-8859-1\")"
   ]
  },
  {
   "cell_type": "code",
   "execution_count": 81,
   "id": "e0df7541-58df-4209-92cc-974f4cb7c39b",
   "metadata": {},
   "outputs": [],
   "source": [
    "#data2=pd.read_csv(os.path.join(path,\"Africa_1997-2022_Sep16.csv\"), sep=\";\", encoding = \"ISO-8859-1\")"
   ]
  },
  {
   "cell_type": "code",
   "execution_count": 115,
   "id": "6a4ad5e4-b698-4215-aef8-98ab4dc5575f",
   "metadata": {},
   "outputs": [
    {
     "data": {
      "text/html": [
       "<div>\n",
       "<style scoped>\n",
       "    .dataframe tbody tr th:only-of-type {\n",
       "        vertical-align: middle;\n",
       "    }\n",
       "\n",
       "    .dataframe tbody tr th {\n",
       "        vertical-align: top;\n",
       "    }\n",
       "\n",
       "    .dataframe thead th {\n",
       "        text-align: right;\n",
       "    }\n",
       "</style>\n",
       "<table border=\"1\" class=\"dataframe\">\n",
       "  <thead>\n",
       "    <tr style=\"text-align: right;\">\n",
       "      <th></th>\n",
       "      <th>ï»¿ISO</th>\n",
       "      <th>EVENT_ID_CNTY</th>\n",
       "      <th>EVENT_ID_NO_CNTY</th>\n",
       "      <th>EVENT_DATE</th>\n",
       "      <th>YEAR</th>\n",
       "      <th>TIME_PRECISION</th>\n",
       "      <th>EVENT_TYPE</th>\n",
       "      <th>SUB_EVENT_TYPE</th>\n",
       "      <th>ACTOR1</th>\n",
       "      <th>ASSOC_ACTOR_1</th>\n",
       "      <th>...</th>\n",
       "      <th>ADMIN3</th>\n",
       "      <th>LOCATION</th>\n",
       "      <th>LATITUDE</th>\n",
       "      <th>LONGITUDE</th>\n",
       "      <th>GEO_PRECISION</th>\n",
       "      <th>SOURCE</th>\n",
       "      <th>SOURCE_SCALE</th>\n",
       "      <th>NOTES</th>\n",
       "      <th>FATALITIES</th>\n",
       "      <th>TIMESTAMP</th>\n",
       "    </tr>\n",
       "  </thead>\n",
       "  <tbody>\n",
       "    <tr>\n",
       "      <th>0</th>\n",
       "      <td>12</td>\n",
       "      <td>ALG1</td>\n",
       "      <td>1</td>\n",
       "      <td>01-janvier-1997</td>\n",
       "      <td>1997</td>\n",
       "      <td>1</td>\n",
       "      <td>Violence against civilians</td>\n",
       "      <td>Attack</td>\n",
       "      <td>GIA: Armed Islamic Group</td>\n",
       "      <td>NaN</td>\n",
       "      <td>...</td>\n",
       "      <td>NaN</td>\n",
       "      <td>Douaouda</td>\n",
       "      <td>36,672</td>\n",
       "      <td>2,789</td>\n",
       "      <td>1</td>\n",
       "      <td>Algeria Watch</td>\n",
       "      <td>Other</td>\n",
       "      <td>5 January: Beheading of 5 citizens in Douaouda...</td>\n",
       "      <td>5</td>\n",
       "      <td>1582579226</td>\n",
       "    </tr>\n",
       "  </tbody>\n",
       "</table>\n",
       "<p>1 rows × 29 columns</p>\n",
       "</div>"
      ],
      "text/plain": [
       "   ï»¿ISO EVENT_ID_CNTY  EVENT_ID_NO_CNTY       EVENT_DATE  YEAR  \\\n",
       "0      12          ALG1                 1  01-janvier-1997  1997   \n",
       "\n",
       "   TIME_PRECISION                  EVENT_TYPE SUB_EVENT_TYPE  \\\n",
       "0               1  Violence against civilians         Attack   \n",
       "\n",
       "                     ACTOR1 ASSOC_ACTOR_1  ...  ADMIN3  LOCATION LATITUDE  \\\n",
       "0  GIA: Armed Islamic Group           NaN  ...     NaN  Douaouda   36,672   \n",
       "\n",
       "   LONGITUDE  GEO_PRECISION         SOURCE SOURCE_SCALE  \\\n",
       "0      2,789              1  Algeria Watch        Other   \n",
       "\n",
       "                                               NOTES FATALITIES   TIMESTAMP  \n",
       "0  5 January: Beheading of 5 citizens in Douaouda...          5  1582579226  \n",
       "\n",
       "[1 rows x 29 columns]"
      ]
     },
     "execution_count": 115,
     "metadata": {},
     "output_type": "execute_result"
    }
   ],
   "source": [
    "data2.head(1)"
   ]
  },
  {
   "cell_type": "code",
   "execution_count": 83,
   "id": "ad228f72-63e0-4cc8-b156-169b7a5a7bef",
   "metadata": {},
   "outputs": [],
   "source": [
    "# Spécification des colonnes a utiliser\n",
    "\n",
    "#collones = ['eventid', 'iyear', 'country_txt', 'provstate', 'city', 'latitude', 'longitude', 'attacktype1_txt', 'targtype1_txt', 'gname', 'weaptype1_txt', 'nkill', 'nkillter', 'nwound', 'nwoundte', 'nhostkid']"
   ]
  },
  {
   "cell_type": "code",
   "execution_count": 211,
   "id": "caef987e-447a-4e0d-b719-4d3ef946765e",
   "metadata": {},
   "outputs": [],
   "source": [
    "coldata2=[\"EVENT_ID_NO_CNTY\", \"YEAR\", \"COUNTRY\", \"EVENT_TYPE\", \"ACTOR1\", \"ADMIN1\", \"LOCATION\", \"LATITUDE\", \"LONGITUDE\", \"FATALITIES\"]"
   ]
  },
  {
   "cell_type": "code",
   "execution_count": 212,
   "id": "830bae81-b4f1-4ecb-b21a-86812f365bd1",
   "metadata": {},
   "outputs": [],
   "source": [
    "data2=data2[coldata2]"
   ]
  },
  {
   "cell_type": "code",
   "execution_count": 213,
   "id": "d5f451d6-5971-437c-b567-c7ef8ae72a98",
   "metadata": {},
   "outputs": [],
   "source": [
    "data2=data2.rename(columns = {\"EVENT_ID_NO_CNTY\": 'eventid', \"YEAR\":'iyear', \"COUNTRY\":'country_txt', \"EVENT_TYPE\":'attacktype1_txt', \"ACTOR1\":'gname', \"ADMIN1\":'provstate', \"LOCATION\":'city', \"LATITUDE\":'latitude', \"LONGITUDE\":'longitude', \"FATALITIES\":'nkill'})"
   ]
  },
  {
   "cell_type": "markdown",
   "id": "3aa48319-4d9e-42ee-8590-3de9905af042",
   "metadata": {},
   "source": [
    "# I PRETRAITEMENT DE LA BASE DATA2 IMPORTÉ DE ACLED"
   ]
  },
  {
   "cell_type": "code",
   "execution_count": 86,
   "id": "a1c4d9d8-6e38-4eab-a405-7c8dfd6bcf8a",
   "metadata": {},
   "outputs": [],
   "source": [
    "#data2=data2[coldata2]"
   ]
  },
  {
   "cell_type": "code",
   "execution_count": 214,
   "id": "e43dedd3-5b9c-4be2-b23b-a2b0075c6dca",
   "metadata": {},
   "outputs": [],
   "source": [
    "# Filtrage des donnees pour considerer les données du burkina à par tir de 2015\n",
    "filtre1 = data2['iyear'] > 2020\n",
    "data2=data2[filtre1]\n",
    "data2=data2[data2['country_txt'] == 'Burkina Faso']"
   ]
  },
  {
   "cell_type": "code",
   "execution_count": 215,
   "id": "78ad03ba-34b3-4d46-8ae0-d233bfc16ef5",
   "metadata": {},
   "outputs": [
    {
     "data": {
      "text/plain": [
       "(1664, 10)"
      ]
     },
     "execution_count": 215,
     "metadata": {},
     "output_type": "execute_result"
    }
   ],
   "source": [
    "data2.shape"
   ]
  },
  {
   "cell_type": "markdown",
   "id": "e053a12b-b1d8-4614-9ad7-fe9533a0b16f",
   "metadata": {},
   "source": [
    "# II PRETRAITEMENT DE LA BASE DATA2 IMPORTÉ DE GTDB"
   ]
  },
  {
   "cell_type": "code",
   "execution_count": 190,
   "id": "3d7157eb",
   "metadata": {},
   "outputs": [],
   "source": [
    "# Spécification des colonnes a utiliser\n",
    "\n",
    "collones = ['ï»¿eventid', 'iyear', 'country_txt', 'provstate', 'city', 'latitude', 'longitude', 'attacktype1_txt', 'targtype1_txt', 'gname', 'weaptype1_txt', 'nkill', 'nkillter', 'nwound', 'nwoundte', 'nhostkid']"
   ]
  },
  {
   "cell_type": "code",
   "execution_count": 157,
   "id": "0d85058d-2958-4862-b260-22480188e594",
   "metadata": {},
   "outputs": [
    {
     "data": {
      "text/plain": [
       "0         1970\n",
       "1         1970\n",
       "2         1970\n",
       "3         1970\n",
       "4         1970\n",
       "          ... \n",
       "181686    2017\n",
       "181687    2017\n",
       "181688    2017\n",
       "181689    2017\n",
       "181690    2017\n",
       "Name: iyear, Length: 181691, dtype: int64"
      ]
     },
     "execution_count": 157,
     "metadata": {},
     "output_type": "execute_result"
    }
   ],
   "source": [
    "d=data['iyear']\n",
    "d"
   ]
  },
  {
   "cell_type": "code",
   "execution_count": 125,
   "id": "fda0f6e9",
   "metadata": {},
   "outputs": [],
   "source": [
    "# Filtrage des donnees pour considerer les données du burkina à par tir de 2015\n",
    "#filtre = data['iyear'] >= 2015"
   ]
  },
  {
   "cell_type": "code",
   "execution_count": 191,
   "id": "1916ac19-3c14-4234-9ae7-dae3523654d7",
   "metadata": {},
   "outputs": [],
   "source": [
    "data_filter=data[data['iyear'] > 2014]"
   ]
  },
  {
   "cell_type": "code",
   "execution_count": 202,
   "id": "079be447-0102-4a85-95b8-089c30da7b36",
   "metadata": {},
   "outputs": [
    {
     "data": {
      "text/html": [
       "<div>\n",
       "<style scoped>\n",
       "    .dataframe tbody tr th:only-of-type {\n",
       "        vertical-align: middle;\n",
       "    }\n",
       "\n",
       "    .dataframe tbody tr th {\n",
       "        vertical-align: top;\n",
       "    }\n",
       "\n",
       "    .dataframe thead th {\n",
       "        text-align: right;\n",
       "    }\n",
       "</style>\n",
       "<table border=\"1\" class=\"dataframe\">\n",
       "  <thead>\n",
       "    <tr style=\"text-align: right;\">\n",
       "      <th></th>\n",
       "      <th>ï»¿eventid</th>\n",
       "      <th>iyear</th>\n",
       "      <th>country_txt</th>\n",
       "      <th>provstate</th>\n",
       "      <th>city</th>\n",
       "      <th>latitude</th>\n",
       "      <th>longitude</th>\n",
       "      <th>attacktype1_txt</th>\n",
       "      <th>targtype1_txt</th>\n",
       "      <th>gname</th>\n",
       "      <th>weaptype1_txt</th>\n",
       "      <th>nkill</th>\n",
       "      <th>nkillter</th>\n",
       "      <th>nwound</th>\n",
       "      <th>nwoundte</th>\n",
       "      <th>nhostkid</th>\n",
       "      <th>nkill_FDS_civils</th>\n",
       "      <th>nwound_FDS_civils</th>\n",
       "    </tr>\n",
       "  </thead>\n",
       "  <tbody>\n",
       "  </tbody>\n",
       "</table>\n",
       "</div>"
      ],
      "text/plain": [
       "Empty DataFrame\n",
       "Columns: [ï»¿eventid, iyear, country_txt, provstate, city, latitude, longitude, attacktype1_txt, targtype1_txt, gname, weaptype1_txt, nkill, nkillter, nwound, nwoundte, nhostkid, nkill_FDS_civils, nwound_FDS_civils]\n",
       "Index: []"
      ]
     },
     "execution_count": 202,
     "metadata": {},
     "output_type": "execute_result"
    }
   ],
   "source": [
    "data_filter[data_filter['iyear']==2021]"
   ]
  },
  {
   "cell_type": "code",
   "execution_count": 192,
   "id": "588f2d27-a770-49f8-9ce7-3e2e0b80cde3",
   "metadata": {},
   "outputs": [],
   "source": [
    "#data_filter.head(5)"
   ]
  },
  {
   "cell_type": "code",
   "execution_count": 193,
   "id": "bc02be34-c8bb-4d97-829f-5dbe06c0cfc0",
   "metadata": {},
   "outputs": [],
   "source": [
    "data_filter=data_filter[data_filter['country_txt'] == 'Burkina Faso']"
   ]
  },
  {
   "cell_type": "code",
   "execution_count": 194,
   "id": "ae7010ad-776a-4f1d-9441-33cb73d5da32",
   "metadata": {},
   "outputs": [
    {
     "data": {
      "text/plain": [
       "(391, 135)"
      ]
     },
     "execution_count": 194,
     "metadata": {},
     "output_type": "execute_result"
    }
   ],
   "source": [
    "data_filter.shape"
   ]
  },
  {
   "cell_type": "code",
   "execution_count": 195,
   "id": "fb76b602",
   "metadata": {},
   "outputs": [],
   "source": [
    "# selection des colonne\n",
    "data_filter = data_filter[collones]"
   ]
  },
  {
   "cell_type": "code",
   "execution_count": 196,
   "id": "bbc594fc-8904-4a84-adfb-a0c7a86518a7",
   "metadata": {},
   "outputs": [],
   "source": [
    "# Calcul du nombre de décès et de blessés parmis les FDS et CIVILS\n",
    "data_filter = data_filter.assign(nkill_FDS_civils = data_filter['nkill'] - data_filter['nkillter'], nwound_FDS_civils = data_filter['nwound'] - data_filter['nwoundte'])"
   ]
  },
  {
   "cell_type": "code",
   "execution_count": 197,
   "id": "23772bb0",
   "metadata": {},
   "outputs": [
    {
     "data": {
      "text/html": [
       "<div>\n",
       "<style scoped>\n",
       "    .dataframe tbody tr th:only-of-type {\n",
       "        vertical-align: middle;\n",
       "    }\n",
       "\n",
       "    .dataframe tbody tr th {\n",
       "        vertical-align: top;\n",
       "    }\n",
       "\n",
       "    .dataframe thead th {\n",
       "        text-align: right;\n",
       "    }\n",
       "</style>\n",
       "<table border=\"1\" class=\"dataframe\">\n",
       "  <thead>\n",
       "    <tr style=\"text-align: right;\">\n",
       "      <th></th>\n",
       "      <th>ï»¿eventid</th>\n",
       "      <th>iyear</th>\n",
       "      <th>country_txt</th>\n",
       "      <th>provstate</th>\n",
       "      <th>city</th>\n",
       "      <th>latitude</th>\n",
       "      <th>longitude</th>\n",
       "      <th>attacktype1_txt</th>\n",
       "      <th>targtype1_txt</th>\n",
       "      <th>gname</th>\n",
       "      <th>weaptype1_txt</th>\n",
       "      <th>nkill</th>\n",
       "      <th>nkillter</th>\n",
       "      <th>nwound</th>\n",
       "      <th>nwoundte</th>\n",
       "      <th>nhostkid</th>\n",
       "      <th>nkill_FDS_civils</th>\n",
       "      <th>nwound_FDS_civils</th>\n",
       "    </tr>\n",
       "  </thead>\n",
       "  <tbody>\n",
       "    <tr>\n",
       "      <th>146545</th>\n",
       "      <td>201504040024</td>\n",
       "      <td>2015</td>\n",
       "      <td>Burkina Faso</td>\n",
       "      <td>Sahel</td>\n",
       "      <td>Tambao</td>\n",
       "      <td>14,781106</td>\n",
       "      <td>0,013595</td>\n",
       "      <td>Hostage Taking (Kidnapping)</td>\n",
       "      <td>Police</td>\n",
       "      <td>Al-Mua'qi'oon Biddam Brigade (Those who Sign w...</td>\n",
       "      <td>Firearms</td>\n",
       "      <td>NaN</td>\n",
       "      <td>0.0</td>\n",
       "      <td>2.0</td>\n",
       "      <td>0.0</td>\n",
       "      <td>1.0</td>\n",
       "      <td>NaN</td>\n",
       "      <td>2.0</td>\n",
       "    </tr>\n",
       "    <tr>\n",
       "      <th>152434</th>\n",
       "      <td>201508230059</td>\n",
       "      <td>2015</td>\n",
       "      <td>Burkina Faso</td>\n",
       "      <td>Sahel</td>\n",
       "      <td>Oursi</td>\n",
       "      <td>14,678733</td>\n",
       "      <td>-0,462031</td>\n",
       "      <td>Armed Assault</td>\n",
       "      <td>Police</td>\n",
       "      <td>Boko Haram</td>\n",
       "      <td>Firearms</td>\n",
       "      <td>1.0</td>\n",
       "      <td>0.0</td>\n",
       "      <td>1.0</td>\n",
       "      <td>0.0</td>\n",
       "      <td>NaN</td>\n",
       "      <td>1.0</td>\n",
       "      <td>1.0</td>\n",
       "    </tr>\n",
       "  </tbody>\n",
       "</table>\n",
       "</div>"
      ],
      "text/plain": [
       "          ï»¿eventid  iyear   country_txt provstate    city   latitude  \\\n",
       "146545  201504040024   2015  Burkina Faso     Sahel  Tambao  14,781106   \n",
       "152434  201508230059   2015  Burkina Faso     Sahel   Oursi  14,678733   \n",
       "\n",
       "        longitude              attacktype1_txt targtype1_txt  \\\n",
       "146545   0,013595  Hostage Taking (Kidnapping)        Police   \n",
       "152434  -0,462031                Armed Assault        Police   \n",
       "\n",
       "                                                    gname weaptype1_txt  \\\n",
       "146545  Al-Mua'qi'oon Biddam Brigade (Those who Sign w...      Firearms   \n",
       "152434                                         Boko Haram      Firearms   \n",
       "\n",
       "        nkill  nkillter  nwound  nwoundte  nhostkid  nkill_FDS_civils  \\\n",
       "146545    NaN       0.0     2.0       0.0       1.0               NaN   \n",
       "152434    1.0       0.0     1.0       0.0       NaN               1.0   \n",
       "\n",
       "        nwound_FDS_civils  \n",
       "146545                2.0  \n",
       "152434                1.0  "
      ]
     },
     "execution_count": 197,
     "metadata": {},
     "output_type": "execute_result"
    }
   ],
   "source": [
    "data_filter.head(2)"
   ]
  },
  {
   "cell_type": "code",
   "execution_count": 116,
   "id": "1335d4a8",
   "metadata": {},
   "outputs": [],
   "source": [
    "#collones = ['eventid', 'iyear', 'imonth', 'iday', 'country_txt', 'provstate', 'city', 'latitude', 'longitude', 'attacktype1_txt', 'targtype1_txt', 'gname', 'weaptype1_txt', 'nkill', 'nkillter', 'nwound', 'nwoundte', 'nhostkid']"
   ]
  },
  {
   "cell_type": "markdown",
   "id": "a3192091-0d11-4ed9-bf89-0d0f236273c9",
   "metadata": {},
   "source": [
    "# Merge des deux dataframes"
   ]
  },
  {
   "cell_type": "code",
   "execution_count": 216,
   "id": "0625a627-fdae-42ed-b8c0-f1a69c1b4eb7",
   "metadata": {},
   "outputs": [],
   "source": [
    "liste_data = [data_filter, data2]\n",
    "data_fusion = pd.concat(liste_data)"
   ]
  },
  {
   "cell_type": "code",
   "execution_count": 217,
   "id": "15d4339e-002a-4810-9060-c4ddcea9a788",
   "metadata": {},
   "outputs": [
    {
     "data": {
      "text/plain": [
       "(2055, 19)"
      ]
     },
     "execution_count": 217,
     "metadata": {},
     "output_type": "execute_result"
    }
   ],
   "source": [
    "data_fusion.shape"
   ]
  },
  {
   "cell_type": "code",
   "execution_count": 219,
   "id": "80125afb-1136-4fcc-b7d2-6b34fdeb7f29",
   "metadata": {},
   "outputs": [],
   "source": [
    "#filtre2 = data_fusion['iyear'] >= 2022\n",
    "#data_filter2=data_fusion[filtre2]"
   ]
  },
  {
   "cell_type": "code",
   "execution_count": 102,
   "id": "0148d177-b0e3-494d-9aa0-3df8b56b8cc1",
   "metadata": {},
   "outputs": [
    {
     "data": {
      "text/plain": [
       "(1712, 18)"
      ]
     },
     "execution_count": 102,
     "metadata": {},
     "output_type": "execute_result"
    }
   ],
   "source": [
    "data_fusion.shape"
   ]
  },
  {
   "cell_type": "code",
   "execution_count": 229,
   "id": "f39a8edf-dfdd-46d2-86fc-45b4905622c5",
   "metadata": {},
   "outputs": [
    {
     "data": {
      "text/html": [
       "<div>\n",
       "<style scoped>\n",
       "    .dataframe tbody tr th:only-of-type {\n",
       "        vertical-align: middle;\n",
       "    }\n",
       "\n",
       "    .dataframe tbody tr th {\n",
       "        vertical-align: top;\n",
       "    }\n",
       "\n",
       "    .dataframe thead th {\n",
       "        text-align: right;\n",
       "    }\n",
       "</style>\n",
       "<table border=\"1\" class=\"dataframe\">\n",
       "  <thead>\n",
       "    <tr style=\"text-align: right;\">\n",
       "      <th></th>\n",
       "      <th>ï»¿eventid</th>\n",
       "      <th>iyear</th>\n",
       "      <th>country_txt</th>\n",
       "      <th>provstate</th>\n",
       "      <th>city</th>\n",
       "      <th>latitude</th>\n",
       "      <th>longitude</th>\n",
       "      <th>attacktype1_txt</th>\n",
       "      <th>targtype1_txt</th>\n",
       "      <th>gname</th>\n",
       "      <th>weaptype1_txt</th>\n",
       "      <th>nkill</th>\n",
       "      <th>nkillter</th>\n",
       "      <th>nwound</th>\n",
       "      <th>nwoundte</th>\n",
       "      <th>nhostkid</th>\n",
       "      <th>nkill_FDS_civils</th>\n",
       "      <th>nwound_FDS_civils</th>\n",
       "      <th>eventid</th>\n",
       "    </tr>\n",
       "  </thead>\n",
       "  <tbody>\n",
       "  </tbody>\n",
       "</table>\n",
       "</div>"
      ],
      "text/plain": [
       "Empty DataFrame\n",
       "Columns: [ï»¿eventid, iyear, country_txt, provstate, city, latitude, longitude, attacktype1_txt, targtype1_txt, gname, weaptype1_txt, nkill, nkillter, nwound, nwoundte, nhostkid, nkill_FDS_civils, nwound_FDS_civils, eventid]\n",
       "Index: []"
      ]
     },
     "execution_count": 229,
     "metadata": {},
     "output_type": "execute_result"
    }
   ],
   "source": [
    "data_fusion[data_fusion['iyear']==2023]"
   ]
  },
  {
   "cell_type": "code",
   "execution_count": 242,
   "id": "718e0bdb-88fd-4be6-a03e-68c754ef5911",
   "metadata": {},
   "outputs": [],
   "source": [
    "# Diagramme en secteurs\n",
    "#data_fusion['nkill_FDS_civils'].value_counts().plot(kind='pie')\n",
    "# Cette ligne assure que le pie chart est un cercle plutôt qu'une éllipse\n",
    "#plt.axis('equal') \n",
    "#plt.show() # Affiche le graphique\n",
    "\n",
    "# Diagramme en tuyaux d'orgues\n",
    "#y=data_fusion['iyear'].value_counts(normalize=True)\n",
    "#plt.show()\n",
    "#tab = data_fusion.sort_values(\"iyear\") # tri des valeurs de la variable X (croissant)\n",
    "#tab\n",
    "# cumsum calcule la somme cumulée\n",
    "#Y=list(y)\n",
    "#X=[2022, 2021, 2020, 2019, 2018, 2017, 2016, 2015]\n",
    "#X\n",
    "from bokeh.plotting import figure, output_file, show"
   ]
  },
  {
   "cell_type": "code",
   "execution_count": 257,
   "id": "e87cf188-712d-4958-8491-77f7367ed432",
   "metadata": {},
   "outputs": [],
   "source": [
    "#show(graph)"
   ]
  },
  {
   "cell_type": "code",
   "execution_count": 247,
   "id": "fdc4f10c-85c4-4062-b0af-afd8f828ea55",
   "metadata": {},
   "outputs": [
    {
     "data": {
      "text/html": [
       "<div style=\"display: table;\"><div style=\"display: table-row;\"><div style=\"display: table-cell;\"><b title=\"bokeh.models.renderers.GlyphRenderer\">GlyphRenderer</b>(</div><div style=\"display: table-cell;\">id&nbsp;=&nbsp;'1039', <span id=\"1042\" style=\"cursor: pointer;\">&hellip;)</span></div></div><div class=\"1041\" style=\"display: none;\"><div style=\"display: table-cell;\"></div><div style=\"display: table-cell;\">coordinates&nbsp;=&nbsp;None,</div></div><div class=\"1041\" style=\"display: none;\"><div style=\"display: table-cell;\"></div><div style=\"display: table-cell;\">data_source&nbsp;=&nbsp;ColumnDataSource(id='1035', ...),</div></div><div class=\"1041\" style=\"display: none;\"><div style=\"display: table-cell;\"></div><div style=\"display: table-cell;\">glyph&nbsp;=&nbsp;Line(id='1036', ...),</div></div><div class=\"1041\" style=\"display: none;\"><div style=\"display: table-cell;\"></div><div style=\"display: table-cell;\">group&nbsp;=&nbsp;None,</div></div><div class=\"1041\" style=\"display: none;\"><div style=\"display: table-cell;\"></div><div style=\"display: table-cell;\">hover_glyph&nbsp;=&nbsp;None,</div></div><div class=\"1041\" style=\"display: none;\"><div style=\"display: table-cell;\"></div><div style=\"display: table-cell;\">js_event_callbacks&nbsp;=&nbsp;{},</div></div><div class=\"1041\" style=\"display: none;\"><div style=\"display: table-cell;\"></div><div style=\"display: table-cell;\">js_property_callbacks&nbsp;=&nbsp;{},</div></div><div class=\"1041\" style=\"display: none;\"><div style=\"display: table-cell;\"></div><div style=\"display: table-cell;\">level&nbsp;=&nbsp;'glyph',</div></div><div class=\"1041\" style=\"display: none;\"><div style=\"display: table-cell;\"></div><div style=\"display: table-cell;\">muted&nbsp;=&nbsp;False,</div></div><div class=\"1041\" style=\"display: none;\"><div style=\"display: table-cell;\"></div><div style=\"display: table-cell;\">muted_glyph&nbsp;=&nbsp;Line(id='1038', ...),</div></div><div class=\"1041\" style=\"display: none;\"><div style=\"display: table-cell;\"></div><div style=\"display: table-cell;\">name&nbsp;=&nbsp;None,</div></div><div class=\"1041\" style=\"display: none;\"><div style=\"display: table-cell;\"></div><div style=\"display: table-cell;\">nonselection_glyph&nbsp;=&nbsp;Line(id='1037', ...),</div></div><div class=\"1041\" style=\"display: none;\"><div style=\"display: table-cell;\"></div><div style=\"display: table-cell;\">selection_glyph&nbsp;=&nbsp;'auto',</div></div><div class=\"1041\" style=\"display: none;\"><div style=\"display: table-cell;\"></div><div style=\"display: table-cell;\">subscribed_events&nbsp;=&nbsp;[],</div></div><div class=\"1041\" style=\"display: none;\"><div style=\"display: table-cell;\"></div><div style=\"display: table-cell;\">syncable&nbsp;=&nbsp;True,</div></div><div class=\"1041\" style=\"display: none;\"><div style=\"display: table-cell;\"></div><div style=\"display: table-cell;\">tags&nbsp;=&nbsp;[],</div></div><div class=\"1041\" style=\"display: none;\"><div style=\"display: table-cell;\"></div><div style=\"display: table-cell;\">view&nbsp;=&nbsp;CDSView(id='1040', ...),</div></div><div class=\"1041\" style=\"display: none;\"><div style=\"display: table-cell;\"></div><div style=\"display: table-cell;\">visible&nbsp;=&nbsp;True,</div></div><div class=\"1041\" style=\"display: none;\"><div style=\"display: table-cell;\"></div><div style=\"display: table-cell;\">x_range_name&nbsp;=&nbsp;'default',</div></div><div class=\"1041\" style=\"display: none;\"><div style=\"display: table-cell;\"></div><div style=\"display: table-cell;\">y_range_name&nbsp;=&nbsp;'default')</div></div></div>\n",
       "<script>\n",
       "(function() {\n",
       "  let expanded = false;\n",
       "  const ellipsis = document.getElementById(\"1042\");\n",
       "  ellipsis.addEventListener(\"click\", function() {\n",
       "    const rows = document.getElementsByClassName(\"1041\");\n",
       "    for (let i = 0; i < rows.length; i++) {\n",
       "      const el = rows[i];\n",
       "      el.style.display = expanded ? \"none\" : \"table-row\";\n",
       "    }\n",
       "    ellipsis.innerHTML = expanded ? \"&hellip;)\" : \"&lsaquo;&lsaquo;&lsaquo;\";\n",
       "    expanded = !expanded;\n",
       "  });\n",
       "})();\n",
       "</script>\n"
      ],
      "text/plain": [
       "GlyphRenderer(id='1039', ...)"
      ]
     },
     "execution_count": 247,
     "metadata": {},
     "output_type": "execute_result"
    }
   ],
   "source": [
    "graph.line(df, data_fusion['iyear'])"
   ]
  },
  {
   "cell_type": "markdown",
   "id": "845af8a5-db78-46ad-87ef-c8c522d731d6",
   "metadata": {},
   "source": [
    "# QUELQUES VISUALISATIONS"
   ]
  },
  {
   "cell_type": "code",
   "execution_count": 271,
   "id": "9daeb908-633f-435a-8f1c-23ab39cb1925",
   "metadata": {},
   "outputs": [],
   "source": [
    "#data_fusion['gname'].value_counts().plot(kind='barh', size=1)"
   ]
  },
  {
   "cell_type": "code",
   "execution_count": 261,
   "id": "51424765-6ff4-41e6-bec3-71bae82e04f2",
   "metadata": {},
   "outputs": [
    {
     "data": {
      "text/plain": [
       "<AxesSubplot:>"
      ]
     },
     "execution_count": 261,
     "metadata": {},
     "output_type": "execute_result"
    },
    {
     "data": {
      "image/png": "[encoded data removed]",
      "text/plain": [
       "<Figure size 640x480 with 1 Axes>"
      ]
     },
     "metadata": {},
     "output_type": "display_data"
    }
   ],
   "source": [
    "data_fusion['iyear'].value_counts().plot(kind='barh')"
   ]
  },
  {
   "cell_type": "code",
   "execution_count": 236,
   "id": "164654ef-bca3-4208-80fb-e6fe76f76ebb",
   "metadata": {},
   "outputs": [
    {
     "name": "stdout",
     "output_type": "stream",
     "text": [
      "Collecting bokeh\n",
      "  Downloading bokeh-2.4.3-py3-none-any.whl (18.5 MB)\n",
      "     ---------------------------------------- 18.5/18.5 MB 1.1 MB/s eta 0:00:00\n",
      "Requirement already satisfied: numpy>=1.11.3 in c:\\anabebou\\master fd ia\\citasums\\citadel_env\\lib\\site-packages (from bokeh) (1.21.6)\n",
      "Requirement already satisfied: tornado>=5.1 in c:\\anabebou\\master fd ia\\citasums\\citadel_env\\lib\\site-packages (from bokeh) (6.2)\n",
      "Requirement already satisfied: packaging>=16.8 in c:\\anabebou\\master fd ia\\citasums\\citadel_env\\lib\\site-packages (from bokeh) (21.3)\n",
      "Requirement already satisfied: pillow>=7.1.0 in c:\\anabebou\\master fd ia\\citasums\\citadel_env\\lib\\site-packages (from bokeh) (9.2.0)\n",
      "Requirement already satisfied: typing-extensions>=3.10.0 in c:\\anabebou\\master fd ia\\citasums\\citadel_env\\lib\\site-packages (from bokeh) (4.1.1)\n",
      "Requirement already satisfied: PyYAML>=3.10 in c:\\anabebou\\master fd ia\\citasums\\citadel_env\\lib\\site-packages (from bokeh) (6.0)\n",
      "Requirement already satisfied: Jinja2>=2.9 in c:\\anabebou\\master fd ia\\citasums\\citadel_env\\lib\\site-packages (from bokeh) (3.1.2)\n",
      "Requirement already satisfied: MarkupSafe>=2.0 in c:\\anabebou\\master fd ia\\citasums\\citadel_env\\lib\\site-packages (from Jinja2>=2.9->bokeh) (2.1.1)\n",
      "Requirement already satisfied: pyparsing!=3.0.5,>=2.0.2 in c:\\anabebou\\master fd ia\\citasums\\citadel_env\\lib\\site-packages (from packaging>=16.8->bokeh) (3.0.9)\n",
      "Installing collected packages: bokeh\n",
      "Successfully installed bokeh-2.4.3\n"
     ]
    }
   ],
   "source": [
    "import plotly as px\n",
    "#import Bokeh as bk\n",
    "!pip install bokeh"
   ]
  },
  {
   "cell_type": "code",
   "execution_count": 230,
   "id": "1b4b5429-0c44-4aab-a00e-1aa8a58fd47f",
   "metadata": {},
   "outputs": [],
   "source": [
    "#plt.hist([data_fusion[\"iyear\"].unique(), data_fusion[\"provstate\"]])\n",
    "#plt.show()"
   ]
  },
  {
   "cell_type": "code",
   "execution_count": 242,
   "id": "3dd9636e-3d12-4748-abe9-ee38d80e2786",
   "metadata": {},
   "outputs": [
    {
     "data": {
      "text/plain": [
       "[0.30803502842218466,\n",
       " 0.2862190812720848,\n",
       " 0.13688738669534492,\n",
       " 0.1344292518051928,\n",
       " 0.06176063911507144,\n",
       " 0.036411123060377935,\n",
       " 0.01874327853740974,\n",
       " 0.01751421109233369]"
      ]
     },
     "execution_count": 242,
     "metadata": {},
     "output_type": "execute_result"
    }
   ],
   "source": [
    "Y"
   ]
  },
  {
   "cell_type": "code",
   "execution_count": 245,
   "id": "8e2e4d0b-5c06-4cbd-8fed-c1420674ac67",
   "metadata": {},
   "outputs": [],
   "source": [
    "data = {'c':X, \n",
    "        'v1':Y\n",
    "      }\n",
    "\n",
    "df = pd.DataFrame(data)"
   ]
  },
  {
   "cell_type": "code",
   "execution_count": 250,
   "id": "b4d00110-f2f3-42ed-9e46-bfcb2d15104f",
   "metadata": {},
   "outputs": [
    {
     "data": {
      "image/png": "[encoded data removed]",
      "text/plain": [
       "<Figure size 640x480 with 1 Axes>"
      ]
     },
     "metadata": {},
     "output_type": "display_data"
    }
   ],
   "source": [
    "hist = df[\"v1\"].hist()"
   ]
  },
  {
   "cell_type": "code",
   "execution_count": 223,
   "id": "b6c233c6-6055-45b4-8f3f-cea55ab60092",
   "metadata": {},
   "outputs": [
    {
     "data": {
      "image/png": "[encoded data removed]",
      "text/plain": [
       "<Figure size 640x480 with 1 Axes>"
      ]
     },
     "metadata": {},
     "output_type": "display_data"
    }
   ],
   "source": [
    "plt.hist(data_fusion['provstate'].value_counts(), rwidth=0.8)  # Création de l'histogramme\n",
    "plt.xlabel('iyear')\n",
    "plt.xticks(np.arange(2015, 2023))\n",
    "#plt.ylabel('Nombres')\n",
    "plt.title(\"Exemple d'histogramme simple\")\n",
    "plt.show()\n",
    "#, bins=inter\n"
   ]
  },
  {
   "cell_type": "code",
   "execution_count": 270,
   "id": "2f536165-027b-4a73-91ae-cda78370c2dd",
   "metadata": {},
   "outputs": [
    {
     "data": {
      "text/plain": [
       "<matplotlib.collections.PathCollection at 0x1e50a34c1d0>"
      ]
     },
     "execution_count": 270,
     "metadata": {},
     "output_type": "execute_result"
    },
    {
     "data": {
      "image/png": "[encoded data removed]",
      "text/plain": [
       "<Figure size 640x480 with 1 Axes>"
      ]
     },
     "metadata": {},
     "output_type": "display_data"
    }
   ],
   "source": [
    "import matplotlib.pyplot as plt\n",
    "plt.scatter(data_fusion['iyear'], data_fusion['nkill_FDS_civils'])"
   ]
  },
  {
   "cell_type": "code",
   "execution_count": 272,
   "id": "ee4f3173-8290-4272-8526-238b072e5ce7",
   "metadata": {},
   "outputs": [],
   "source": [
    "#data_fusion['iyear'].value_counts()\n",
    "#barplot(x='day',y='tip', data=data,\n",
    "#hue='sex')\n",
    "#.plot(kind='barh')\n",
    "#data_fusion['iyear'].plot(kind='barh')"
   ]
  },
  {
   "cell_type": "markdown",
   "id": "4f68a0b5-666f-42e2-b36f-36348298922e",
   "metadata": {},
   "source": [
    "# Eregistrement de la base globale"
   ]
  },
  {
   "cell_type": "code",
   "execution_count": 231,
   "id": "a54b7e62-97ee-4b8f-9d14-996926159fc2",
   "metadata": {},
   "outputs": [],
   "source": [
    "data_fusion.to_csv(\"data_fusion.csv\", index=False)"
   ]
  }
 ],
 "metadata": {
  "kernelspec": {
   "display_name": "Python 3 (ipykernel)",
   "language": "python",
   "name": "python3"
  },
  "language_info": {
   "codemirror_mode": {
    "name": "ipython",
    "version": 3
   },
   "file_extension": ".py",
   "mimetype": "text/x-python",
   "name": "python",
   "nbconvert_exporter": "python",
   "pygments_lexer": "ipython3",
   "version": "3.7.2"
  }
 },
 "nbformat": 4,
 "nbformat_minor": 5
}
